{
 "cells": [
  {
   "cell_type": "code",
   "execution_count": 2,
   "id": "ce3d8c77",
   "metadata": {},
   "outputs": [
    {
     "name": "stdout",
     "output_type": "stream",
     "text": [
      "Subsets are valid.\n"
     ]
    }
   ],
   "source": [
    "import pandas as pd\n",
    "import random\n",
    "\n",
    "import pandas as pd\n",
    "\n",
    "# Specify the file path to your CSV file here\n",
    "csv_file_path = ('/Users/geethika/Downloads/Sample Data/Sample_selection.csv')\n",
    "\n",
    "# Step 1: Read CSV data and validate it\n",
    "def read_csv(file_path):\n",
    "    try:\n",
    "        data = pd.read_csv(file_path)\n",
    "        if set([\"alphabet\", \"alphabet_team\", \"alphabet_category\", \"selection_percentage\"]).issubset(data.columns):\n",
    "            return data\n",
    "        else:\n",
    "            raise Exception(\"Invalid CSV format. Required columns are missing.\")\n",
    "    except Exception as e:\n",
    "        print(f\"Error: {e}\")\n",
    "        return None\n",
    "\n",
    "data = read_csv(csv_file_path)\n",
    "if data is None:\n",
    "    exit()\n",
    "\n",
    "\n",
    "# Step 2: Group the alphabet data by category\n",
    "category_groups = data.groupby(\"alphabet_category\")\n",
    "\n",
    "# Step 3: Generate Subsets\n",
    "subsets = []\n",
    "\n",
    "for category, group in category_groups:\n",
    "    group = group.sample(frac=1)  # Shuffle the group for randomization\n",
    "\n",
    "   # ...\n",
    "while len(group) >= 3:\n",
    "    subset = group[group[\"alphabet_category\"] == category].head(1)\n",
    "    group = group[group[\"alphabet_category\"] != category]\n",
    "\n",
    "    while len(subset) < 8 and not group.empty:\n",
    "        # Check if there are any alphabets left in the category to sample from.\n",
    "        if (group[\"alphabet_category\"] == category).any():\n",
    "            alphabet = group[group[\"alphabet_category\"] == category].sample(1, weights=group[\"selection_percentage\"].str.rstrip('%').astype(float))\n",
    "            subset = pd.concat([subset, alphabet], ignore_index=True)\n",
    "            group = group.drop(alphabet.index)\n",
    "        else:\n",
    "            break  # No more alphabets in the category, exit the loop.\n",
    "\n",
    "    other_categories = set(category_groups.groups.keys()) - {category}\n",
    "    for other_category in other_categories:\n",
    "        # Check if there are any alphabets left in the other category to sample from.\n",
    "        if (group[\"alphabet_category\"] == other_category).any():\n",
    "            alphabet = group[group[\"alphabet_category\"] == other_category].sample(1)\n",
    "            subset = pd.concat([subset, alphabet], ignore_index=True)\n",
    "            group = group.drop(alphabet.index)\n",
    "\n",
    "# Step 4: Validate Subsets\n",
    "def validate_subsets(subsets):\n",
    "    for subset in subsets:\n",
    "        categories = set(subset[\"alphabet_category\"])\n",
    "        if len(categories) != len(category_groups.groups):\n",
    "            return False\n",
    "        if len(subset) != 11:\n",
    "            return False\n",
    "    return True\n",
    "\n",
    "if validate_subsets(subsets):\n",
    "    print(\"Subsets are valid.\")\n",
    "else:\n",
    "    print(\"Error: Subsets do not meet the criteria.\")\n",
    "\n",
    "# Step 5: Save Subsets to CSV files\n",
    "for i, subset in enumerate(subsets):\n",
    "    subset.to_csv(f\"subset_{i+1}.csv\", index=False)\n"
   ]
  },
  {
   "cell_type": "code",
   "execution_count": null,
   "id": "7fd22ffa",
   "metadata": {},
   "outputs": [],
   "source": []
  },
  {
   "cell_type": "code",
   "execution_count": null,
   "id": "34838661",
   "metadata": {},
   "outputs": [],
   "source": []
  },
  {
   "cell_type": "code",
   "execution_count": null,
   "id": "f8798662",
   "metadata": {},
   "outputs": [],
   "source": []
  }
 ],
 "metadata": {
  "kernelspec": {
   "display_name": "Python 3 (ipykernel)",
   "language": "python",
   "name": "python3"
  },
  "language_info": {
   "codemirror_mode": {
    "name": "ipython",
    "version": 3
   },
   "file_extension": ".py",
   "mimetype": "text/x-python",
   "name": "python",
   "nbconvert_exporter": "python",
   "pygments_lexer": "ipython3",
   "version": "3.9.7"
  }
 },
 "nbformat": 4,
 "nbformat_minor": 5
}
